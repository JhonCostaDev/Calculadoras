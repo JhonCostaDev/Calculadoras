{
 "cells": [
  {
   "cell_type": "code",
   "execution_count": 118,
   "id": "217416d5-e4c0-4ed7-a664-196ffe2ad925",
   "metadata": {},
   "outputs": [
    {
     "name": "stdin",
     "output_type": "stream",
     "text": [
      "Type your expression 5+9*72/4*2\n"
     ]
    }
   ],
   "source": [
    "user_input = input(\"Type your expression\")\n"
   ]
  },
  {
   "cell_type": "code",
   "execution_count": 97,
   "id": "b8592899-17b6-4170-8789-0f7ce27714d3",
   "metadata": {},
   "outputs": [],
   "source": [
    "def separa_expressao(expressao):\n",
    "    numeros = ''\n",
    "    operadores = []\n",
    "    resultado = []\n",
    "\n",
    "    for caractere in expressao:\n",
    "        if caractere.isdigit():\n",
    "            numeros += caractere\n",
    "        else:\n",
    "            resultado.append(numeros)\n",
    "            numeros = ''\n",
    "            resultado.append(caractere)\n",
    "    if numero:\n",
    "        resultado.append(numeros)\n",
    "    return resultado\n"
   ]
  },
  {
   "cell_type": "code",
   "execution_count": 98,
   "id": "2e7959ee-bb00-40e6-a28d-0e7e51eb5ee4",
   "metadata": {},
   "outputs": [],
   "source": [
    "def calcular(lista):\n",
    "    # Separar numeros de operacao\n",
    "    numeros = lista[::2]\n",
    "    operacoes = lista[1::2]\n",
    "    numeros = [float(item) for item in numeros]\n",
    "    \n",
    "    #identificar a operacao\n",
    "    for operacao in operacoes:\n",
    "        if operacao == \"+\":\n",
    "            numeros[0] = numeros[0] + numeros[1]\n",
    "            numeros.pop(1)\n",
    "            \n",
    "        if operacao == \"-\":\n",
    "            numeros[0] = numeros[0] - numeros[1]\n",
    "            numeros.pop(1)\n",
    "            \n",
    "        if operacao == \"*\":\n",
    "            numeros[0] = numeros[0] * numeros[1]\n",
    "            numeros.pop(1)\n",
    "            \n",
    "        if operacao == \"/\":\n",
    "            numeros[0] = numeros[0] / numeros[1]\n",
    "            numeros.pop(1)\n",
    "\n",
    "    return numeros\n",
    "            \n",
    "    # chamar a funcao correspondente com os dois primeiros item de numeros\n",
    "    \n",
    "    # apendar o resultado ao inicio da lista numeros\n",
    "\n",
    "    # apagar os numeros ja calculados\n",
    "\n",
    "    # repetir a peracao ate a lista ter apenas um item.\n",
    "            \n",
    "    "
   ]
  },
  {
   "cell_type": "code",
   "execution_count": 119,
   "id": "ca7932a6-f612-4b3c-bdfe-35c3a4ac68c2",
   "metadata": {},
   "outputs": [
    {
     "data": {
      "text/plain": [
       "['5', '+', '9', '*', '72', '/', '4', '*', '2']"
      ]
     },
     "execution_count": 119,
     "metadata": {},
     "output_type": "execute_result"
    }
   ],
   "source": [
    "separado = separa_expressao(user_input)\n",
    "separado"
   ]
  },
  {
   "cell_type": "code",
   "execution_count": 120,
   "id": "ed330fb5-9614-4b3b-be09-f3b5018b5b7f",
   "metadata": {},
   "outputs": [
    {
     "data": {
      "text/plain": [
       "[504.0]"
      ]
     },
     "execution_count": 120,
     "metadata": {},
     "output_type": "execute_result"
    }
   ],
   "source": [
    "calcular(separado)"
   ]
  },
  {
   "cell_type": "code",
   "execution_count": 31,
   "id": "f72dc890-6bb9-4dbd-a419-61db0a4a1af3",
   "metadata": {},
   "outputs": [
    {
     "data": {
      "text/plain": [
       "['543', '+', '23', '*', '3', '/', '2']"
      ]
     },
     "execution_count": 31,
     "metadata": {},
     "output_type": "execute_result"
    }
   ],
   "source": [
    "expressao = separa_expressao(user_input)\n",
    "expressao"
   ]
  },
  {
   "cell_type": "code",
   "execution_count": 86,
   "id": "b3530013-3a8c-45ec-90bd-171b6f2d6d3b",
   "metadata": {},
   "outputs": [],
   "source": [
    "#TODO: ignorar quando usuario digitar espacos em branco. \n",
    "#TODO: validar a ordem correta das operacoes matematicas."
   ]
  }
 ],
 "metadata": {
  "kernelspec": {
   "display_name": "Python 3 (ipykernel)",
   "language": "python",
   "name": "python3"
  },
  "language_info": {
   "codemirror_mode": {
    "name": "ipython",
    "version": 3
   },
   "file_extension": ".py",
   "mimetype": "text/x-python",
   "name": "python",
   "nbconvert_exporter": "python",
   "pygments_lexer": "ipython3",
   "version": "3.12.3"
  }
 },
 "nbformat": 4,
 "nbformat_minor": 5
}
